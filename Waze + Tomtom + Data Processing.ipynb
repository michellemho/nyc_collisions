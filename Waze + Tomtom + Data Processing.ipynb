{
 "cells": [
  {
   "cell_type": "code",
   "execution_count": 1,
   "metadata": {},
   "outputs": [],
   "source": [
    "import scipy\n",
    "import cartoframes\n",
    "import pandas as pd\n",
    "import pysal\n",
    "import geopandas as gpd\n",
    "import networkx as nx\n",
    "import numpy as np"
   ]
  },
  {
   "cell_type": "code",
   "execution_count": 2,
   "metadata": {},
   "outputs": [],
   "source": [
    "cc = cartoframes.CartoContext()"
   ]
  },
  {
   "cell_type": "code",
   "execution_count": 3,
   "metadata": {},
   "outputs": [],
   "source": [
    "find_nearest_query = '''\n",
    "SELECT\n",
    "  roads.cartodb_id as cartodb_id,\n",
    "  count(collisions.cartodb_id) as collision_count,\n",
    "  sum(collisions.number_of_persons_injured) as sum_injuries,\n",
    "  sum(collisions.number_of_persons_killed) as sum_fatalities,\n",
    "  sum(collisions.number_of_cyclist_injured) as sum_cyclist_injured,\n",
    "  sum(collisions.number_of_cyclist_killed) as sum_cyclist_killed,\n",
    "  sum(collisions.number_of_motorist_injured) as sum_motorists_injured,\n",
    "  sum(collisions.number_of_motorist_killed) as sum_motorists_killed,\n",
    "  sum(collisions.number_of_pedestrians_injured) as sum_pedestrian_injured,\n",
    "  sum(collisions.number_of_pedestrians_killed) as sum_pedestrian_killed \n",
    "FROM\n",
    "  (SELECT cartodb_id, the_geom, the_geom_webmercator, number_of_cyclist_injured,\n",
    "        number_of_cyclist_killed,\n",
    "        number_of_motorist_injured,\n",
    "        number_of_motorist_killed,\n",
    "        number_of_pedestrians_injured,\n",
    "        number_of_pedestrians_killed,\n",
    "        number_of_persons_injured,\n",
    "        number_of_persons_killed\n",
    "   FROM nypd_collisions_2017) AS collisions\n",
    "CROSS JOIN LATERAL\n",
    "  (SELECT cartodb_id, the_geom, the_geom_webmercator\n",
    "   FROM {road_dataset} as roads\n",
    "   ORDER BY collisions.the_geom_webmercator <-> the_geom_webmercator\n",
    "   LIMIT 1) AS roads\n",
    "GROUP BY roads.cartodb_id\n",
    "'''"
   ]
  },
  {
   "cell_type": "code",
   "execution_count": 5,
   "metadata": {
    "scrolled": true
   },
   "outputs": [
    {
     "name": "stdout",
     "output_type": "stream",
     "text": [
      "Table successfully written to CARTO: https://michellemho-carto.carto.com/dataset/tomtom_collisions\n"
     ]
    }
   ],
   "source": [
    "tomtom_collisions = cc.query(find_nearest_query.format(road_dataset='joined'), table_name='tomtom_collisions', decode_geom=True)"
   ]
  },
  {
   "cell_type": "code",
   "execution_count": 4,
   "metadata": {},
   "outputs": [],
   "source": [
    "tomtom_collisions = cc.read('tomtom_collisions')"
   ]
  },
  {
   "cell_type": "code",
   "execution_count": 5,
   "metadata": {},
   "outputs": [],
   "source": [
    "road_segments = cc.read('joined', decode_geom=True)\n",
    "road_segments.reset_index(inplace=True)"
   ]
  },
  {
   "cell_type": "code",
   "execution_count": 10,
   "metadata": {},
   "outputs": [
    {
     "data": {
      "text/html": [
       "<div>\n",
       "<style scoped>\n",
       "    .dataframe tbody tr th:only-of-type {\n",
       "        vertical-align: middle;\n",
       "    }\n",
       "\n",
       "    .dataframe tbody tr th {\n",
       "        vertical-align: top;\n",
       "    }\n",
       "\n",
       "    .dataframe thead th {\n",
       "        text-align: right;\n",
       "    }\n",
       "</style>\n",
       "<table border=\"1\" class=\"dataframe\">\n",
       "  <thead>\n",
       "    <tr style=\"text-align: right;\">\n",
       "      <th></th>\n",
       "      <th>cartodb_id</th>\n",
       "      <th>ada</th>\n",
       "      <th>backrd</th>\n",
       "      <th>carriage</th>\n",
       "      <th>charge</th>\n",
       "      <th>constatus</th>\n",
       "      <th>dynspeed</th>\n",
       "      <th>f_bp</th>\n",
       "      <th>f_elev</th>\n",
       "      <th>f_jnctid</th>\n",
       "      <th>...</th>\n",
       "      <th>we_23</th>\n",
       "      <th>we_24</th>\n",
       "      <th>we_3</th>\n",
       "      <th>we_4</th>\n",
       "      <th>we_5</th>\n",
       "      <th>we_6</th>\n",
       "      <th>we_7</th>\n",
       "      <th>we_8</th>\n",
       "      <th>we_9</th>\n",
       "      <th>geometry</th>\n",
       "    </tr>\n",
       "  </thead>\n",
       "  <tbody>\n",
       "    <tr>\n",
       "      <th>0</th>\n",
       "      <td>3043</td>\n",
       "      <td>0</td>\n",
       "      <td>0</td>\n",
       "      <td>None</td>\n",
       "      <td>None</td>\n",
       "      <td>None</td>\n",
       "      <td>0</td>\n",
       "      <td>0</td>\n",
       "      <td>0</td>\n",
       "      <td>2147483647</td>\n",
       "      <td>...</td>\n",
       "      <td>0</td>\n",
       "      <td>0</td>\n",
       "      <td>0</td>\n",
       "      <td>0</td>\n",
       "      <td>0</td>\n",
       "      <td>0</td>\n",
       "      <td>0</td>\n",
       "      <td>1</td>\n",
       "      <td>4</td>\n",
       "      <td>(LINESTRING (-74.168707 40.5768001, -74.168853...</td>\n",
       "    </tr>\n",
       "    <tr>\n",
       "      <th>1</th>\n",
       "      <td>36</td>\n",
       "      <td>0</td>\n",
       "      <td>0</td>\n",
       "      <td>None</td>\n",
       "      <td>None</td>\n",
       "      <td>None</td>\n",
       "      <td>0</td>\n",
       "      <td>0</td>\n",
       "      <td>0</td>\n",
       "      <td>2147483647</td>\n",
       "      <td>...</td>\n",
       "      <td>0</td>\n",
       "      <td>0</td>\n",
       "      <td>0</td>\n",
       "      <td>0</td>\n",
       "      <td>0</td>\n",
       "      <td>0</td>\n",
       "      <td>0</td>\n",
       "      <td>0</td>\n",
       "      <td>0</td>\n",
       "      <td>(LINESTRING (-73.546876 41.980526, -73.5472709...</td>\n",
       "    </tr>\n",
       "    <tr>\n",
       "      <th>2</th>\n",
       "      <td>130</td>\n",
       "      <td>1</td>\n",
       "      <td>0</td>\n",
       "      <td>None</td>\n",
       "      <td>None</td>\n",
       "      <td>None</td>\n",
       "      <td>0</td>\n",
       "      <td>0</td>\n",
       "      <td>0</td>\n",
       "      <td>2147483647</td>\n",
       "      <td>...</td>\n",
       "      <td>0</td>\n",
       "      <td>0</td>\n",
       "      <td>0</td>\n",
       "      <td>0</td>\n",
       "      <td>0</td>\n",
       "      <td>0</td>\n",
       "      <td>0</td>\n",
       "      <td>0</td>\n",
       "      <td>0</td>\n",
       "      <td>(LINESTRING (-73.232291 40.630219, -73.231802 ...</td>\n",
       "    </tr>\n",
       "    <tr>\n",
       "      <th>3</th>\n",
       "      <td>282</td>\n",
       "      <td>0</td>\n",
       "      <td>5</td>\n",
       "      <td>None</td>\n",
       "      <td>None</td>\n",
       "      <td>None</td>\n",
       "      <td>0</td>\n",
       "      <td>0</td>\n",
       "      <td>0</td>\n",
       "      <td>2147483647</td>\n",
       "      <td>...</td>\n",
       "      <td>5</td>\n",
       "      <td>0</td>\n",
       "      <td>0</td>\n",
       "      <td>0</td>\n",
       "      <td>0</td>\n",
       "      <td>0</td>\n",
       "      <td>0</td>\n",
       "      <td>2</td>\n",
       "      <td>3</td>\n",
       "      <td>(LINESTRING (-74.21202099999999 40.551974, -74...</td>\n",
       "    </tr>\n",
       "    <tr>\n",
       "      <th>4</th>\n",
       "      <td>470</td>\n",
       "      <td>1</td>\n",
       "      <td>0</td>\n",
       "      <td>None</td>\n",
       "      <td>None</td>\n",
       "      <td>None</td>\n",
       "      <td>0</td>\n",
       "      <td>0</td>\n",
       "      <td>0</td>\n",
       "      <td>2147483647</td>\n",
       "      <td>...</td>\n",
       "      <td>0</td>\n",
       "      <td>0</td>\n",
       "      <td>0</td>\n",
       "      <td>0</td>\n",
       "      <td>0</td>\n",
       "      <td>0</td>\n",
       "      <td>0</td>\n",
       "      <td>0</td>\n",
       "      <td>0</td>\n",
       "      <td>(LINESTRING (-74.1673138 40.5788879, -74.16710...</td>\n",
       "    </tr>\n",
       "  </tbody>\n",
       "</table>\n",
       "<p>5 rows × 103 columns</p>\n",
       "</div>"
      ],
      "text/plain": [
       "   cartodb_id  ada  backrd carriage charge constatus  dynspeed  f_bp  f_elev  \\\n",
       "0        3043    0       0     None   None      None         0     0       0   \n",
       "1          36    0       0     None   None      None         0     0       0   \n",
       "2         130    1       0     None   None      None         0     0       0   \n",
       "3         282    0       5     None   None      None         0     0       0   \n",
       "4         470    1       0     None   None      None         0     0       0   \n",
       "\n",
       "     f_jnctid                        ...                          we_23  \\\n",
       "0  2147483647                        ...                              0   \n",
       "1  2147483647                        ...                              0   \n",
       "2  2147483647                        ...                              0   \n",
       "3  2147483647                        ...                              5   \n",
       "4  2147483647                        ...                              0   \n",
       "\n",
       "   we_24  we_3  we_4  we_5  we_6  we_7  we_8  we_9  \\\n",
       "0      0     0     0     0     0     0     1     4   \n",
       "1      0     0     0     0     0     0     0     0   \n",
       "2      0     0     0     0     0     0     0     0   \n",
       "3      0     0     0     0     0     0     2     3   \n",
       "4      0     0     0     0     0     0     0     0   \n",
       "\n",
       "                                            geometry  \n",
       "0  (LINESTRING (-74.168707 40.5768001, -74.168853...  \n",
       "1  (LINESTRING (-73.546876 41.980526, -73.5472709...  \n",
       "2  (LINESTRING (-73.232291 40.630219, -73.231802 ...  \n",
       "3  (LINESTRING (-74.21202099999999 40.551974, -74...  \n",
       "4  (LINESTRING (-74.1673138 40.5788879, -74.16710...  \n",
       "\n",
       "[5 rows x 103 columns]"
      ]
     },
     "execution_count": 10,
     "metadata": {},
     "output_type": "execute_result"
    }
   ],
   "source": [
    "road_segments.head()"
   ]
  },
  {
   "cell_type": "code",
   "execution_count": 6,
   "metadata": {},
   "outputs": [],
   "source": [
    "tomtom_collisions_joined = road_segments.join(tomtom_collisions, on='cartodb_id', how='left', lsuffix='_left')"
   ]
  },
  {
   "cell_type": "code",
   "execution_count": 7,
   "metadata": {},
   "outputs": [
    {
     "data": {
      "text/plain": [
       "(947079, 113)"
      ]
     },
     "execution_count": 7,
     "metadata": {},
     "output_type": "execute_result"
    }
   ],
   "source": [
    "tomtom_collisions_joined.shape"
   ]
  },
  {
   "cell_type": "code",
   "execution_count": 8,
   "metadata": {},
   "outputs": [],
   "source": [
    "tomtom_collisions_joined.collision_count.fillna(value=0, inplace=True)\n",
    "tomtom_collisions_joined.sum_injuries.fillna(value=0, inplace=True)\n",
    "tomtom_collisions_joined.sum_fatalities.fillna(value=0, inplace=True)\n",
    "tomtom_collisions_joined.sum_cyclist_injured.fillna(value=0, inplace=True)\n",
    "tomtom_collisions_joined.sum_cyclist_killed.fillna(value=0, inplace=True)\n",
    "tomtom_collisions_joined.sum_motorists_injured.fillna(value=0, inplace=True)\n",
    "tomtom_collisions_joined.sum_motorists_killed.fillna(value=0, inplace=True)\n",
    "tomtom_collisions_joined.sum_pedestrian_injured.fillna(value=0, inplace=True)\n",
    "tomtom_collisions_joined.sum_pedestrian_killed.fillna(value=0, inplace=True)"
   ]
  },
  {
   "cell_type": "code",
   "execution_count": 12,
   "metadata": {},
   "outputs": [
    {
     "name": "stderr",
     "output_type": "stream",
     "text": [
      "Uploading in batches:   0%|          | 0/2 [00:00<?, ?it/s]/anaconda3/lib/python3.6/site-packages/tqdm/_monitor.py:89: TqdmSynchronisationWarning: Set changed size during iteration (see https://github.com/tqdm/tqdm/issues/481)\n",
      "  TqdmSynchronisationWarning)\n",
      "Uploading in batches: 100%|██████████| 2/2 [09:47<00:00, 293.84s/it]\n"
     ]
    },
    {
     "ename": "NameError",
     "evalue": "name 'warn' is not defined",
     "output_type": "error",
     "traceback": [
      "\u001b[0;31m---------------------------------------------------------------------------\u001b[0m",
      "\u001b[0;31mNameError\u001b[0m                                 Traceback (most recent call last)",
      "\u001b[0;32m<ipython-input-12-9755f3cc0f03>\u001b[0m in \u001b[0;36m<module>\u001b[0;34m()\u001b[0m\n\u001b[0;32m----> 1\u001b[0;31m \u001b[0mcc\u001b[0m\u001b[0;34m.\u001b[0m\u001b[0mwrite\u001b[0m\u001b[0;34m(\u001b[0m\u001b[0mtomtom_collisions_joined\u001b[0m\u001b[0;34m,\u001b[0m \u001b[0;34m'tomtom_collisions_joined'\u001b[0m\u001b[0;34m)\u001b[0m\u001b[0;34m\u001b[0m\u001b[0m\n\u001b[0m",
      "\u001b[0;32m~/proj/cartoframes/cartoframes/context.py\u001b[0m in \u001b[0;36mwrite\u001b[0;34m(self, df, table_name, temp_dir, overwrite, lnglat, encode_geom, geom_col, **kwargs)\u001b[0m\n\u001b[1;32m    332\u001b[0m             \u001b[0;31m# send dataframe in batches, combine into placeholder table\u001b[0m\u001b[0;34m\u001b[0m\u001b[0;34m\u001b[0m\u001b[0m\n\u001b[1;32m    333\u001b[0m             final_table_name = self._send_batches(_df, table_name, temp_dir,\n\u001b[0;32m--> 334\u001b[0;31m                                                   geom_col, pgcolnames, kwargs)\n\u001b[0m\u001b[1;32m    335\u001b[0m         \u001b[0;32melse\u001b[0m\u001b[0;34m:\u001b[0m\u001b[0;34m\u001b[0m\u001b[0m\n\u001b[1;32m    336\u001b[0m             final_table_name = self._send_dataframe(_df, table_name, temp_dir,\n",
      "\u001b[0;32m~/proj/cartoframes/cartoframes/context.py\u001b[0m in \u001b[0;36m_send_batches\u001b[0;34m(self, df, table_name, temp_dir, geom_col, pgcolnames, kwargs)\u001b[0m\n\u001b[1;32m    513\u001b[0m             \u001b[0mstatus\u001b[0m \u001b[0;34m=\u001b[0m \u001b[0mbatch_client\u001b[0m\u001b[0;34m.\u001b[0m\u001b[0mcreate\u001b[0m\u001b[0;34m(\u001b[0m\u001b[0;34m[\u001b[0m\u001b[0mquery\u001b[0m\u001b[0;34m,\u001b[0m \u001b[0;34m]\u001b[0m\u001b[0;34m)\u001b[0m\u001b[0;34m\u001b[0m\u001b[0m\n\u001b[1;32m    514\u001b[0m             \u001b[0mbatchjob\u001b[0m \u001b[0;34m=\u001b[0m \u001b[0mBatchJobStatus\u001b[0m\u001b[0;34m(\u001b[0m\u001b[0mself\u001b[0m\u001b[0;34m,\u001b[0m \u001b[0mstatus\u001b[0m\u001b[0;34m)\u001b[0m\u001b[0;34m\u001b[0m\u001b[0m\n\u001b[0;32m--> 515\u001b[0;31m             \u001b[0;32mwhile\u001b[0m \u001b[0mbatchjob\u001b[0m\u001b[0;34m.\u001b[0m\u001b[0mstatus\u001b[0m\u001b[0;34m(\u001b[0m\u001b[0;34m)\u001b[0m\u001b[0;34m[\u001b[0m\u001b[0;34m'status'\u001b[0m\u001b[0;34m]\u001b[0m \u001b[0;32min\u001b[0m \u001b[0;34m(\u001b[0m\u001b[0;34m'running'\u001b[0m\u001b[0;34m,\u001b[0m \u001b[0;34m'pending'\u001b[0m\u001b[0;34m,\u001b[0m \u001b[0;34m)\u001b[0m\u001b[0;34m:\u001b[0m\u001b[0;34m\u001b[0m\u001b[0m\n\u001b[0m\u001b[1;32m    516\u001b[0m                 \u001b[0mtime\u001b[0m\u001b[0;34m.\u001b[0m\u001b[0msleep\u001b[0m\u001b[0;34m(\u001b[0m\u001b[0;36m1\u001b[0m\u001b[0;34m)\u001b[0m\u001b[0;34m\u001b[0m\u001b[0m\n\u001b[1;32m    517\u001b[0m         \u001b[0;32mexcept\u001b[0m \u001b[0mCartoException\u001b[0m \u001b[0;32mas\u001b[0m \u001b[0merr\u001b[0m\u001b[0;34m:\u001b[0m\u001b[0;34m\u001b[0m\u001b[0m\n",
      "\u001b[0;32m~/proj/cartoframes/cartoframes/batch.py\u001b[0m in \u001b[0;36mstatus\u001b[0;34m(self)\u001b[0m\n\u001b[1;32m     86\u001b[0m         \u001b[0mresp\u001b[0m \u001b[0;34m=\u001b[0m \u001b[0mself\u001b[0m\u001b[0;34m.\u001b[0m\u001b[0m_batch_client\u001b[0m\u001b[0;34m.\u001b[0m\u001b[0mread\u001b[0m\u001b[0;34m(\u001b[0m\u001b[0mself\u001b[0m\u001b[0;34m.\u001b[0m\u001b[0mjob_id\u001b[0m\u001b[0;34m)\u001b[0m\u001b[0;34m\u001b[0m\u001b[0m\n\u001b[1;32m     87\u001b[0m         \u001b[0;32mif\u001b[0m \u001b[0;34m'failed_reason'\u001b[0m \u001b[0;32min\u001b[0m \u001b[0mresp\u001b[0m\u001b[0;34m:\u001b[0m\u001b[0;34m\u001b[0m\u001b[0m\n\u001b[0;32m---> 88\u001b[0;31m             \u001b[0mwarn\u001b[0m\u001b[0;34m(\u001b[0m\u001b[0;34m'Job failed: {}'\u001b[0m\u001b[0;34m.\u001b[0m\u001b[0mformat\u001b[0m\u001b[0;34m(\u001b[0m\u001b[0mresp\u001b[0m\u001b[0;34m.\u001b[0m\u001b[0mget\u001b[0m\u001b[0;34m(\u001b[0m\u001b[0;34m'failed_reason'\u001b[0m\u001b[0;34m)\u001b[0m\u001b[0;34m)\u001b[0m\u001b[0;34m)\u001b[0m\u001b[0;34m\u001b[0m\u001b[0m\n\u001b[0m\u001b[1;32m     89\u001b[0m         \u001b[0mself\u001b[0m\u001b[0;34m.\u001b[0m\u001b[0m_set_status\u001b[0m\u001b[0;34m(\u001b[0m\u001b[0mresp\u001b[0m\u001b[0;34m.\u001b[0m\u001b[0mget\u001b[0m\u001b[0;34m(\u001b[0m\u001b[0;34m'status'\u001b[0m\u001b[0;34m)\u001b[0m\u001b[0;34m)\u001b[0m\u001b[0;34m\u001b[0m\u001b[0m\n\u001b[1;32m     90\u001b[0m         return dict(status=resp.get('status'),\n",
      "\u001b[0;31mNameError\u001b[0m: name 'warn' is not defined"
     ]
    }
   ],
   "source": [
    "cc.write(tomtom_collisions_joined, 'tomtom_collisions_joined')"
   ]
  },
  {
   "cell_type": "code",
   "execution_count": null,
   "metadata": {},
   "outputs": [],
   "source": [
    "# matches the number of rows in the nypd collision dataset\n",
    "collision_join.collision_count.sum()"
   ]
  }
 ],
 "metadata": {
  "kernelspec": {
   "display_name": "Python 3",
   "language": "python",
   "name": "python3"
  },
  "language_info": {
   "codemirror_mode": {
    "name": "ipython",
    "version": 3
   },
   "file_extension": ".py",
   "mimetype": "text/x-python",
   "name": "python",
   "nbconvert_exporter": "python",
   "pygments_lexer": "ipython3",
   "version": "3.6.4"
  }
 },
 "nbformat": 4,
 "nbformat_minor": 2
}
